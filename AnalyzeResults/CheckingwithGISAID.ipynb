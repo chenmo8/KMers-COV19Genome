{
 "cells": [
  {
   "cell_type": "markdown",
   "metadata": {},
   "source": [
    "Confirming the Clustering Results of Labels A and B with GISAID Labels."
   ]
  },
  {
   "cell_type": "code",
   "execution_count": null,
   "metadata": {},
   "outputs": [],
   "source": [
    "import pandas as pd\n",
    "import numpy as np\n",
    "import math\n",
    "import csv\n",
    "\n",
    "from matplotlib import pyplot as plt"
   ]
  },
  {
   "cell_type": "code",
   "execution_count": 2,
   "metadata": {},
   "outputs": [],
   "source": [
    "#All the removed files\n",
    "re=['EPI_ISL_402131.fa', 'EPI_ISL_408514.fa', 'EPI_ISL_408515.fa', 'EPI_ISL_410721.fa', 'EPI_ISL_417024.fa', 'EPI_ISL_418206.fa', 'EPI_ISL_418207.fa', 'EPI_ISL_418208.fa', 'EPI_ISL_418209.fa', 'EPI_ISL_418796.fa', 'EPI_ISL_418810.fa', 'EPI_ISL_419529.fa', 'EPI_ISL_419530.fa', 'EPI_ISL_419531.fa', 'EPI_ISL_419532.fa', 'EPI_ISL_419533.fa', 'EPI_ISL_419534.fa', 'EPI_ISL_419535.fa', 'EPI_ISL_419536.fa', 'EPI_ISL_419537.fa', 'EPI_ISL_419538.fa', 'EPI_ISL_419539.fa', 'EPI_ISL_419540.fa', 'EPI_ISL_419561.fa']"
   ]
  },
  {
   "cell_type": "code",
   "execution_count": 20,
   "metadata": {},
   "outputs": [],
   "source": [
    "alllabels = []\n",
    "for thing in data3:\n",
    "    for thi in thing:\n",
    "        alllabels.append(thi)\n"
   ]
  },
  {
   "cell_type": "markdown",
   "metadata": {},
   "source": [
    "# Accuracy Metrics"
   ]
  },
  {
   "cell_type": "code",
   "execution_count": 21,
   "metadata": {},
   "outputs": [],
   "source": [
    "labelz = [\"A\", \"B\"]\n",
    "\n",
    "#Label clusters into group A and B based on length - A is the smaller group\n",
    "def dividedata(test):\n",
    "    testlabels = {}\n",
    "    testlabels.update({\"A\":test[0]})\n",
    "    testlabels.update({\"B\":test[1]})\n",
    "    if len(test[1]) < len(testlabels[\"A\"]):\n",
    "        testlabels.update({\"A\":test[1]})\n",
    "        testlabels.update({\"B\":test[0]})\n",
    "    return testlabels\n",
    "    \n",
    "#Output array as [TP, FN, FP, and TN]\n",
    "def return4cells(testlabels, reallabels):\n",
    "    labeindex = 0\n",
    "    summetrics = {}\n",
    "    for thing in labelz: \n",
    "        blar = []\n",
    "        TP = 0\n",
    "        for i in testlabels[thing]:\n",
    "            if i in reallabels[thing]:\n",
    "                TP +=1\n",
    "        blar.append(TP)\n",
    "        FN = 0\n",
    "        for i in reallabels[thing]:\n",
    "            if i not in testlabels[thing]:\n",
    "                FN +=1\n",
    "        blar.append(FN)\n",
    "        FP = 0\n",
    "        for i in testlabels[thing]:\n",
    "            if i not in reallabels[thing]:\n",
    "                FP +=1\n",
    "        blar.append(FP)\n",
    "        TN = 0\n",
    "        if labeindex == 0:\n",
    "            for i in testlabels[\"B\"]:\n",
    "                if i in reallabels[\"B\"]:\n",
    "                    TN +=1\n",
    "        if labeindex == 1:\n",
    "            for i in testlabels[\"A\"]:\n",
    "                if i in reallabels[\"A\"]:\n",
    "                    TN +=1\n",
    "        blar.append(TN)\n",
    "        summetrics.update({thing:blar})\n",
    "    return summetrics\n",
    "\n",
    "def precision(outputcells):\n",
    "    return (outputcells[0]/(outputcells[0]+outputcells[2]))\n",
    "\n",
    "def truepostive(outputcells):\n",
    "    return (outputcells[0]/(outputcells[0]+outputcells[1]))\n",
    "\n",
    "def falsepositive(outputcells):\n",
    "    return (outputcells[2]/(outputcells[2]+outputcells[3]))"
   ]
  },
  {
   "cell_type": "markdown",
   "metadata": {},
   "source": [
    "### Testing Functions Above"
   ]
  },
  {
   "cell_type": "code",
   "execution_count": 22,
   "metadata": {},
   "outputs": [
    {
     "name": "stdout",
     "output_type": "stream",
     "text": [
      "<class 'list'>\n"
     ]
    }
   ],
   "source": [
    "bleb2 = dividedata(data3)\n",
    "belb2 = return4cells(bleb2, gisaidsorted)\n",
    "print(type(belb2[\"A\"]))"
   ]
  },
  {
   "cell_type": "code",
   "execution_count": 23,
   "metadata": {},
   "outputs": [
    {
     "name": "stdout",
     "output_type": "stream",
     "text": [
      "1.0\n"
     ]
    }
   ],
   "source": [
    "aas = falsepositive(belb2[\"A\"])\n",
    "print(aas)"
   ]
  },
  {
   "cell_type": "code",
   "execution_count": 24,
   "metadata": {},
   "outputs": [
    {
     "name": "stdout",
     "output_type": "stream",
     "text": [
      "0\n",
      "0\n"
     ]
    }
   ],
   "source": [
    "print(len(gisaidsorted[\"A\"]))\n",
    "print(len(gisaidsorted[\"B\"]))"
   ]
  },
  {
   "cell_type": "markdown",
   "metadata": {},
   "source": [
    "# GISAID Labels"
   ]
  },
  {
   "cell_type": "code",
   "execution_count": 26,
   "metadata": {},
   "outputs": [],
   "source": [
    "f = open(\"GISAID_classification.txt\")\n",
    "stuff = f.read()\n",
    "splitstuff = stuff.splitlines(True)"
   ]
  },
  {
   "cell_type": "code",
   "execution_count": 27,
   "metadata": {},
   "outputs": [
    {
     "data": {
      "text/plain": [
       "'>USA/WA-S88/EPI_ISL_417141/2020-03-01/S/A.1\\n'"
      ]
     },
     "execution_count": 27,
     "metadata": {},
     "output_type": "execute_result"
    }
   ],
   "source": [
    "splitstuff[0]"
   ]
  },
  {
   "cell_type": "code",
   "execution_count": 28,
   "metadata": {},
   "outputs": [
    {
     "data": {
      "text/plain": [
       "'EPI_ISL_402119.fa'"
      ]
     },
     "execution_count": 28,
     "metadata": {},
     "output_type": "execute_result"
    }
   ],
   "source": [
    "alllabels[0]"
   ]
  },
  {
   "cell_type": "code",
   "execution_count": 29,
   "metadata": {},
   "outputs": [],
   "source": [
    "gisadlabels  = {}\n",
    "for line in splitstuff:\n",
    "    bar = line.split(\"/\")\n",
    "    if bar[2]+\".fa\" in alllabels:\n",
    "        gisadlabels.update({bar[2]+\".fa\":bar[5]})\n",
    "    #elif bar[2]+.\"fa\""
   ]
  },
  {
   "cell_type": "code",
   "execution_count": 30,
   "metadata": {},
   "outputs": [
    {
     "name": "stdout",
     "output_type": "stream",
     "text": [
      "3946\n"
     ]
    }
   ],
   "source": [
    "print(len(gisadlabels))"
   ]
  },
  {
   "cell_type": "code",
   "execution_count": 31,
   "metadata": {},
   "outputs": [],
   "source": [
    "gisaidsorted = {}\n",
    "labels = [\"A\",\"B\"]\n",
    "for i in labels:\n",
    "    labelstuff = []\n",
    "    for thing in gisadlabels:\n",
    "        blue = gisadlabels[thing]\n",
    "        if blue[0] == i:\n",
    "            labelstuff.append(thing)\n",
    "    gisaidsorted.update({i:labelstuff}) "
   ]
  },
  {
   "cell_type": "code",
   "execution_count": 32,
   "metadata": {},
   "outputs": [
    {
     "name": "stdout",
     "output_type": "stream",
     "text": [
      "727\n",
      "3219\n"
     ]
    }
   ],
   "source": [
    "print(len(gisaidsorted[\"A\"]))\n",
    "print(len(gisaidsorted[\"B\"]))"
   ]
  },
  {
   "cell_type": "markdown",
   "metadata": {},
   "source": [
    "# Model Outputs"
   ]
  },
  {
   "cell_type": "code",
   "execution_count": 33,
   "metadata": {},
   "outputs": [],
   "source": [
    "with open('L1_k25_kmeans_c2.csv', newline='\\n') as f:\n",
    "    reader1 = csv.reader(f)\n",
    "    data1 = list(reader1)\n",
    "\n",
    "with open(\"L2_k25_kmeans_c2.csv\", newline=\"\\n\") as f:\n",
    "    reader2 = csv.reader(f)\n",
    "    data2 = list(reader2)\n",
    "\n",
    "with open('jaccard_k25_kmeans_c2.csv', newline=\"\\n\") as f:\n",
    "    reader3 = csv.reader(f)\n",
    "    data3 = list(reader3)\n",
    "    \n",
    "with open(\"msa_kmeans_c2.csv\", newline=\"\\n\") as f:\n",
    "    reader4 = csv.reader(f)\n",
    "    data4 = list(reader4)"
   ]
  },
  {
   "cell_type": "code",
   "execution_count": 34,
   "metadata": {},
   "outputs": [],
   "source": [
    "allcompiled = []\n",
    "allcompiled.append(data1)\n",
    "allcompiled.append(data2)\n",
    "allcompiled.append(data3)\n",
    "allcompiled.append(data4)\n",
    "\n",
    "allmetrics = []\n",
    "for datta in allcompiled:\n",
    "    eep = dividedata(datta)\n",
    "    stuffto = return4cells(eep, gisaidsorted)\n",
    "    allmetrics.append(stuffto)\n",
    "    \n",
    "alltpstuff = []\n",
    "for datta in allmetrics:\n",
    "    yo = {}\n",
    "    for ep in datta:\n",
    "        yum = datta[ep]\n",
    "        tp = precision(yum)\n",
    "        yy = falsepositive(yum)\n",
    "        yyy = truepostive(yum)\n",
    "        yo.update({ep:[tp,yy,yy]})\n",
    "    alltpstuff.append(yo)"
   ]
  },
  {
   "cell_type": "code",
   "execution_count": 35,
   "metadata": {},
   "outputs": [
    {
     "data": {
      "text/plain": [
       "[{'A': [0.4555984555984556, 0.26281453867660765, 0.26281453867660765],\n",
       "  'B': [0.992056856187291, 0.00794314381270903, 0.00794314381270903]},\n",
       " {'A': [0.24923857868020305, 0.4594594594594595, 0.4594594594594595],\n",
       "  'B': [0.8805668016194332, 0.1194331983805668, 0.1194331983805668]},\n",
       " {'A': [0.4553054662379421, 0.26312519415967695, 0.26312519415967695],\n",
       "  'B': [0.9920535340861564, 0.00794646591384358, 0.00794646591384358]},\n",
       " {'A': [0.15601023017902813, 0.10251630941286113, 0.10251630941286113],\n",
       "  'B': [0.8126582278481013, 0.18734177215189873, 0.18734177215189873]}]"
      ]
     },
     "execution_count": 35,
     "metadata": {},
     "output_type": "execute_result"
    }
   ],
   "source": [
    "alltpstuff"
   ]
  },
  {
   "cell_type": "markdown",
   "metadata": {},
   "source": [
    "# Testing with Sklearn Functions"
   ]
  },
  {
   "cell_type": "code",
   "execution_count": 36,
   "metadata": {},
   "outputs": [
    {
     "data": {
      "text/plain": [
       "0.8333333333333333"
      ]
     },
     "execution_count": 36,
     "metadata": {},
     "output_type": "execute_result"
    }
   ],
   "source": [
    "import numpy as np\n",
    "from sklearn.metrics import average_precision_score\n",
    "y_true = np.array([0, 0, 1, 1])\n",
    "y_scores = np.array([0.1, 0.4, 0.35, 0.8])\n",
    "average_precision_score(y_true, y_scores)"
   ]
  },
  {
   "cell_type": "code",
   "execution_count": 37,
   "metadata": {},
   "outputs": [],
   "source": [
    "test1 = []\n",
    "oop = {\"A\":0, \"B\":1}\n",
    "for thing in bleb2:\n",
    "    for j in bleb2[thing]:\n",
    "        test1.append(oop[thing])\n",
    "\n",
    "truetest = []\n",
    "for thing in gisaidsorted:\n",
    "    for j in gisaidsorted[thing]:\n",
    "        truetest.append(oop[thing])"
   ]
  },
  {
   "cell_type": "code",
   "execution_count": 197,
   "metadata": {},
   "outputs": [],
   "source": [
    "import numpy as np\n",
    "from sklearn.metrics import precision_recall_curve\n",
    "y_true = np.array(truetest)\n",
    "y_scores = np.array(test1)\n",
    "precision, recall, thresholds = precision_recall_curve(y_true, y_scores)"
   ]
  },
  {
   "cell_type": "code",
   "execution_count": 203,
   "metadata": {},
   "outputs": [
    {
     "data": {
      "text/plain": [
       "array([0, 0, 0, ..., 1, 1, 1])"
      ]
     },
     "execution_count": 203,
     "metadata": {},
     "output_type": "execute_result"
    }
   ],
   "source": [
    "y_true"
   ]
  },
  {
   "cell_type": "code",
   "execution_count": 207,
   "metadata": {},
   "outputs": [
    {
     "name": "stdout",
     "output_type": "stream",
     "text": [
      "EPI_ISL_419424.fa\n"
     ]
    }
   ],
   "source": [
    "print(alllabels[3943])"
   ]
  },
  {
   "cell_type": "code",
   "execution_count": 212,
   "metadata": {},
   "outputs": [],
   "source": [
    "yo = alllabels[0]\n",
    "yoo = float(yo[8:-3])\n",
    "for thing in alllabels:\n",
    "    if float(thing[8:-3]) > yoo:\n",
    "        yoo = float(thing[8:-3])\n",
    "    #print(thing[8:-3])"
   ]
  },
  {
   "cell_type": "code",
   "execution_count": 213,
   "metadata": {},
   "outputs": [
    {
     "data": {
      "text/plain": [
       "422186.0"
      ]
     },
     "execution_count": 213,
     "metadata": {},
     "output_type": "execute_result"
    }
   ],
   "source": [
    "yoo"
   ]
  },
  {
   "cell_type": "code",
   "execution_count": null,
   "metadata": {},
   "outputs": [],
   "source": []
  }
 ],
 "metadata": {
  "kernelspec": {
   "display_name": "Python 3",
   "language": "python",
   "name": "python3"
  },
  "language_info": {
   "codemirror_mode": {
    "name": "ipython",
    "version": 3
   },
   "file_extension": ".py",
   "mimetype": "text/x-python",
   "name": "python",
   "nbconvert_exporter": "python",
   "pygments_lexer": "ipython3",
   "version": "3.6.9"
  }
 },
 "nbformat": 4,
 "nbformat_minor": 4
}
